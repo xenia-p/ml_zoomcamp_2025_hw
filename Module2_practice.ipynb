{
 "cells": [
  {
   "cell_type": "code",
   "execution_count": 3,
   "id": "e5a52673-0e7b-4afb-9ad1-4d43414e2523",
   "metadata": {},
   "outputs": [],
   "source": [
    "import pandas as pd\n",
    "import numpy as np"
   ]
  },
  {
   "cell_type": "code",
   "execution_count": 4,
   "id": "6bad6ada-cd4b-4a32-bf75-a461ac829e34",
   "metadata": {},
   "outputs": [
    {
     "data": {
      "text/html": [
       "<div>\n",
       "<style scoped>\n",
       "    .dataframe tbody tr th:only-of-type {\n",
       "        vertical-align: middle;\n",
       "    }\n",
       "\n",
       "    .dataframe tbody tr th {\n",
       "        vertical-align: top;\n",
       "    }\n",
       "\n",
       "    .dataframe thead th {\n",
       "        text-align: right;\n",
       "    }\n",
       "</style>\n",
       "<table border=\"1\" class=\"dataframe\">\n",
       "  <thead>\n",
       "    <tr style=\"text-align: right;\">\n",
       "      <th></th>\n",
       "      <th>Year</th>\n",
       "      <th>Engine HP</th>\n",
       "      <th>Engine Cylinders</th>\n",
       "      <th>Number of Doors</th>\n",
       "      <th>highway MPG</th>\n",
       "      <th>city mpg</th>\n",
       "      <th>Popularity</th>\n",
       "      <th>MSRP</th>\n",
       "    </tr>\n",
       "  </thead>\n",
       "  <tbody>\n",
       "    <tr>\n",
       "      <th>count</th>\n",
       "      <td>11914.000000</td>\n",
       "      <td>11845.00000</td>\n",
       "      <td>11884.000000</td>\n",
       "      <td>11908.000000</td>\n",
       "      <td>11914.000000</td>\n",
       "      <td>11914.000000</td>\n",
       "      <td>11914.000000</td>\n",
       "      <td>1.191400e+04</td>\n",
       "    </tr>\n",
       "    <tr>\n",
       "      <th>mean</th>\n",
       "      <td>2010.384338</td>\n",
       "      <td>249.38607</td>\n",
       "      <td>5.628829</td>\n",
       "      <td>3.436093</td>\n",
       "      <td>26.637485</td>\n",
       "      <td>19.733255</td>\n",
       "      <td>1554.911197</td>\n",
       "      <td>4.059474e+04</td>\n",
       "    </tr>\n",
       "    <tr>\n",
       "      <th>std</th>\n",
       "      <td>7.579740</td>\n",
       "      <td>109.19187</td>\n",
       "      <td>1.780559</td>\n",
       "      <td>0.881315</td>\n",
       "      <td>8.863001</td>\n",
       "      <td>8.987798</td>\n",
       "      <td>1441.855347</td>\n",
       "      <td>6.010910e+04</td>\n",
       "    </tr>\n",
       "    <tr>\n",
       "      <th>min</th>\n",
       "      <td>1990.000000</td>\n",
       "      <td>55.00000</td>\n",
       "      <td>0.000000</td>\n",
       "      <td>2.000000</td>\n",
       "      <td>12.000000</td>\n",
       "      <td>7.000000</td>\n",
       "      <td>2.000000</td>\n",
       "      <td>2.000000e+03</td>\n",
       "    </tr>\n",
       "    <tr>\n",
       "      <th>25%</th>\n",
       "      <td>2007.000000</td>\n",
       "      <td>170.00000</td>\n",
       "      <td>4.000000</td>\n",
       "      <td>2.000000</td>\n",
       "      <td>22.000000</td>\n",
       "      <td>16.000000</td>\n",
       "      <td>549.000000</td>\n",
       "      <td>2.100000e+04</td>\n",
       "    </tr>\n",
       "    <tr>\n",
       "      <th>50%</th>\n",
       "      <td>2015.000000</td>\n",
       "      <td>227.00000</td>\n",
       "      <td>6.000000</td>\n",
       "      <td>4.000000</td>\n",
       "      <td>26.000000</td>\n",
       "      <td>18.000000</td>\n",
       "      <td>1385.000000</td>\n",
       "      <td>2.999500e+04</td>\n",
       "    </tr>\n",
       "    <tr>\n",
       "      <th>75%</th>\n",
       "      <td>2016.000000</td>\n",
       "      <td>300.00000</td>\n",
       "      <td>6.000000</td>\n",
       "      <td>4.000000</td>\n",
       "      <td>30.000000</td>\n",
       "      <td>22.000000</td>\n",
       "      <td>2009.000000</td>\n",
       "      <td>4.223125e+04</td>\n",
       "    </tr>\n",
       "    <tr>\n",
       "      <th>max</th>\n",
       "      <td>2017.000000</td>\n",
       "      <td>1001.00000</td>\n",
       "      <td>16.000000</td>\n",
       "      <td>4.000000</td>\n",
       "      <td>354.000000</td>\n",
       "      <td>137.000000</td>\n",
       "      <td>5657.000000</td>\n",
       "      <td>2.065902e+06</td>\n",
       "    </tr>\n",
       "  </tbody>\n",
       "</table>\n",
       "</div>"
      ],
      "text/plain": [
       "               Year    Engine HP  Engine Cylinders  Number of Doors  \\\n",
       "count  11914.000000  11845.00000      11884.000000     11908.000000   \n",
       "mean    2010.384338    249.38607          5.628829         3.436093   \n",
       "std        7.579740    109.19187          1.780559         0.881315   \n",
       "min     1990.000000     55.00000          0.000000         2.000000   \n",
       "25%     2007.000000    170.00000          4.000000         2.000000   \n",
       "50%     2015.000000    227.00000          6.000000         4.000000   \n",
       "75%     2016.000000    300.00000          6.000000         4.000000   \n",
       "max     2017.000000   1001.00000         16.000000         4.000000   \n",
       "\n",
       "        highway MPG      city mpg    Popularity          MSRP  \n",
       "count  11914.000000  11914.000000  11914.000000  1.191400e+04  \n",
       "mean      26.637485     19.733255   1554.911197  4.059474e+04  \n",
       "std        8.863001      8.987798   1441.855347  6.010910e+04  \n",
       "min       12.000000      7.000000      2.000000  2.000000e+03  \n",
       "25%       22.000000     16.000000    549.000000  2.100000e+04  \n",
       "50%       26.000000     18.000000   1385.000000  2.999500e+04  \n",
       "75%       30.000000     22.000000   2009.000000  4.223125e+04  \n",
       "max      354.000000    137.000000   5657.000000  2.065902e+06  "
      ]
     },
     "execution_count": 4,
     "metadata": {},
     "output_type": "execute_result"
    }
   ],
   "source": [
    "df = pd.read_csv('data.csv')\n",
    "df.describe()"
   ]
  },
  {
   "cell_type": "code",
   "execution_count": 6,
   "id": "604a7dba-9371-492d-b709-86605b0273a2",
   "metadata": {},
   "outputs": [
    {
     "data": {
      "text/html": [
       "<div>\n",
       "<style scoped>\n",
       "    .dataframe tbody tr th:only-of-type {\n",
       "        vertical-align: middle;\n",
       "    }\n",
       "\n",
       "    .dataframe tbody tr th {\n",
       "        vertical-align: top;\n",
       "    }\n",
       "\n",
       "    .dataframe thead th {\n",
       "        text-align: right;\n",
       "    }\n",
       "</style>\n",
       "<table border=\"1\" class=\"dataframe\">\n",
       "  <thead>\n",
       "    <tr style=\"text-align: right;\">\n",
       "      <th></th>\n",
       "      <th>Make</th>\n",
       "      <th>Model</th>\n",
       "      <th>Year</th>\n",
       "      <th>Engine Fuel Type</th>\n",
       "      <th>Engine HP</th>\n",
       "      <th>Engine Cylinders</th>\n",
       "      <th>Transmission Type</th>\n",
       "      <th>Driven_Wheels</th>\n",
       "      <th>Number of Doors</th>\n",
       "      <th>Market Category</th>\n",
       "      <th>Vehicle Size</th>\n",
       "      <th>Vehicle Style</th>\n",
       "      <th>highway MPG</th>\n",
       "      <th>city mpg</th>\n",
       "      <th>Popularity</th>\n",
       "      <th>MSRP</th>\n",
       "    </tr>\n",
       "  </thead>\n",
       "  <tbody>\n",
       "    <tr>\n",
       "      <th>0</th>\n",
       "      <td>BMW</td>\n",
       "      <td>1 Series M</td>\n",
       "      <td>2011</td>\n",
       "      <td>premium unleaded (required)</td>\n",
       "      <td>335.0</td>\n",
       "      <td>6.0</td>\n",
       "      <td>MANUAL</td>\n",
       "      <td>rear wheel drive</td>\n",
       "      <td>2.0</td>\n",
       "      <td>Factory Tuner,Luxury,High-Performance</td>\n",
       "      <td>Compact</td>\n",
       "      <td>Coupe</td>\n",
       "      <td>26</td>\n",
       "      <td>19</td>\n",
       "      <td>3916</td>\n",
       "      <td>46135</td>\n",
       "    </tr>\n",
       "    <tr>\n",
       "      <th>1</th>\n",
       "      <td>BMW</td>\n",
       "      <td>1 Series</td>\n",
       "      <td>2011</td>\n",
       "      <td>premium unleaded (required)</td>\n",
       "      <td>300.0</td>\n",
       "      <td>6.0</td>\n",
       "      <td>MANUAL</td>\n",
       "      <td>rear wheel drive</td>\n",
       "      <td>2.0</td>\n",
       "      <td>Luxury,Performance</td>\n",
       "      <td>Compact</td>\n",
       "      <td>Convertible</td>\n",
       "      <td>28</td>\n",
       "      <td>19</td>\n",
       "      <td>3916</td>\n",
       "      <td>40650</td>\n",
       "    </tr>\n",
       "    <tr>\n",
       "      <th>2</th>\n",
       "      <td>BMW</td>\n",
       "      <td>1 Series</td>\n",
       "      <td>2011</td>\n",
       "      <td>premium unleaded (required)</td>\n",
       "      <td>300.0</td>\n",
       "      <td>6.0</td>\n",
       "      <td>MANUAL</td>\n",
       "      <td>rear wheel drive</td>\n",
       "      <td>2.0</td>\n",
       "      <td>Luxury,High-Performance</td>\n",
       "      <td>Compact</td>\n",
       "      <td>Coupe</td>\n",
       "      <td>28</td>\n",
       "      <td>20</td>\n",
       "      <td>3916</td>\n",
       "      <td>36350</td>\n",
       "    </tr>\n",
       "    <tr>\n",
       "      <th>3</th>\n",
       "      <td>BMW</td>\n",
       "      <td>1 Series</td>\n",
       "      <td>2011</td>\n",
       "      <td>premium unleaded (required)</td>\n",
       "      <td>230.0</td>\n",
       "      <td>6.0</td>\n",
       "      <td>MANUAL</td>\n",
       "      <td>rear wheel drive</td>\n",
       "      <td>2.0</td>\n",
       "      <td>Luxury,Performance</td>\n",
       "      <td>Compact</td>\n",
       "      <td>Coupe</td>\n",
       "      <td>28</td>\n",
       "      <td>18</td>\n",
       "      <td>3916</td>\n",
       "      <td>29450</td>\n",
       "    </tr>\n",
       "    <tr>\n",
       "      <th>4</th>\n",
       "      <td>BMW</td>\n",
       "      <td>1 Series</td>\n",
       "      <td>2011</td>\n",
       "      <td>premium unleaded (required)</td>\n",
       "      <td>230.0</td>\n",
       "      <td>6.0</td>\n",
       "      <td>MANUAL</td>\n",
       "      <td>rear wheel drive</td>\n",
       "      <td>2.0</td>\n",
       "      <td>Luxury</td>\n",
       "      <td>Compact</td>\n",
       "      <td>Convertible</td>\n",
       "      <td>28</td>\n",
       "      <td>18</td>\n",
       "      <td>3916</td>\n",
       "      <td>34500</td>\n",
       "    </tr>\n",
       "  </tbody>\n",
       "</table>\n",
       "</div>"
      ],
      "text/plain": [
       "  Make       Model  Year             Engine Fuel Type  Engine HP  \\\n",
       "0  BMW  1 Series M  2011  premium unleaded (required)      335.0   \n",
       "1  BMW    1 Series  2011  premium unleaded (required)      300.0   \n",
       "2  BMW    1 Series  2011  premium unleaded (required)      300.0   \n",
       "3  BMW    1 Series  2011  premium unleaded (required)      230.0   \n",
       "4  BMW    1 Series  2011  premium unleaded (required)      230.0   \n",
       "\n",
       "   Engine Cylinders Transmission Type     Driven_Wheels  Number of Doors  \\\n",
       "0               6.0            MANUAL  rear wheel drive              2.0   \n",
       "1               6.0            MANUAL  rear wheel drive              2.0   \n",
       "2               6.0            MANUAL  rear wheel drive              2.0   \n",
       "3               6.0            MANUAL  rear wheel drive              2.0   \n",
       "4               6.0            MANUAL  rear wheel drive              2.0   \n",
       "\n",
       "                         Market Category Vehicle Size Vehicle Style  \\\n",
       "0  Factory Tuner,Luxury,High-Performance      Compact         Coupe   \n",
       "1                     Luxury,Performance      Compact   Convertible   \n",
       "2                Luxury,High-Performance      Compact         Coupe   \n",
       "3                     Luxury,Performance      Compact         Coupe   \n",
       "4                                 Luxury      Compact   Convertible   \n",
       "\n",
       "   highway MPG  city mpg  Popularity   MSRP  \n",
       "0           26        19        3916  46135  \n",
       "1           28        19        3916  40650  \n",
       "2           28        20        3916  36350  \n",
       "3           28        18        3916  29450  \n",
       "4           28        18        3916  34500  "
      ]
     },
     "execution_count": 6,
     "metadata": {},
     "output_type": "execute_result"
    }
   ],
   "source": [
    "df.head()"
   ]
  },
  {
   "cell_type": "code",
   "execution_count": 7,
   "id": "3ef09792-3a24-4eb6-b1bc-6460146d133c",
   "metadata": {},
   "outputs": [],
   "source": [
    "df.columns = df.columns.str.lower().str.replace(' ', '_')"
   ]
  },
  {
   "cell_type": "code",
   "execution_count": 8,
   "id": "b906c962-994c-4aa3-b1ce-da23bd1c0e66",
   "metadata": {},
   "outputs": [
    {
     "data": {
      "text/html": [
       "<div>\n",
       "<style scoped>\n",
       "    .dataframe tbody tr th:only-of-type {\n",
       "        vertical-align: middle;\n",
       "    }\n",
       "\n",
       "    .dataframe tbody tr th {\n",
       "        vertical-align: top;\n",
       "    }\n",
       "\n",
       "    .dataframe thead th {\n",
       "        text-align: right;\n",
       "    }\n",
       "</style>\n",
       "<table border=\"1\" class=\"dataframe\">\n",
       "  <thead>\n",
       "    <tr style=\"text-align: right;\">\n",
       "      <th></th>\n",
       "      <th>make</th>\n",
       "      <th>model</th>\n",
       "      <th>year</th>\n",
       "      <th>engine_fuel_type</th>\n",
       "      <th>engine_hp</th>\n",
       "      <th>engine_cylinders</th>\n",
       "      <th>transmission_type</th>\n",
       "      <th>driven_wheels</th>\n",
       "      <th>number_of_doors</th>\n",
       "      <th>market_category</th>\n",
       "      <th>vehicle_size</th>\n",
       "      <th>vehicle_style</th>\n",
       "      <th>highway_mpg</th>\n",
       "      <th>city_mpg</th>\n",
       "      <th>popularity</th>\n",
       "      <th>msrp</th>\n",
       "    </tr>\n",
       "  </thead>\n",
       "  <tbody>\n",
       "    <tr>\n",
       "      <th>0</th>\n",
       "      <td>BMW</td>\n",
       "      <td>1 Series M</td>\n",
       "      <td>2011</td>\n",
       "      <td>premium unleaded (required)</td>\n",
       "      <td>335.0</td>\n",
       "      <td>6.0</td>\n",
       "      <td>MANUAL</td>\n",
       "      <td>rear wheel drive</td>\n",
       "      <td>2.0</td>\n",
       "      <td>Factory Tuner,Luxury,High-Performance</td>\n",
       "      <td>Compact</td>\n",
       "      <td>Coupe</td>\n",
       "      <td>26</td>\n",
       "      <td>19</td>\n",
       "      <td>3916</td>\n",
       "      <td>46135</td>\n",
       "    </tr>\n",
       "    <tr>\n",
       "      <th>1</th>\n",
       "      <td>BMW</td>\n",
       "      <td>1 Series</td>\n",
       "      <td>2011</td>\n",
       "      <td>premium unleaded (required)</td>\n",
       "      <td>300.0</td>\n",
       "      <td>6.0</td>\n",
       "      <td>MANUAL</td>\n",
       "      <td>rear wheel drive</td>\n",
       "      <td>2.0</td>\n",
       "      <td>Luxury,Performance</td>\n",
       "      <td>Compact</td>\n",
       "      <td>Convertible</td>\n",
       "      <td>28</td>\n",
       "      <td>19</td>\n",
       "      <td>3916</td>\n",
       "      <td>40650</td>\n",
       "    </tr>\n",
       "    <tr>\n",
       "      <th>2</th>\n",
       "      <td>BMW</td>\n",
       "      <td>1 Series</td>\n",
       "      <td>2011</td>\n",
       "      <td>premium unleaded (required)</td>\n",
       "      <td>300.0</td>\n",
       "      <td>6.0</td>\n",
       "      <td>MANUAL</td>\n",
       "      <td>rear wheel drive</td>\n",
       "      <td>2.0</td>\n",
       "      <td>Luxury,High-Performance</td>\n",
       "      <td>Compact</td>\n",
       "      <td>Coupe</td>\n",
       "      <td>28</td>\n",
       "      <td>20</td>\n",
       "      <td>3916</td>\n",
       "      <td>36350</td>\n",
       "    </tr>\n",
       "    <tr>\n",
       "      <th>3</th>\n",
       "      <td>BMW</td>\n",
       "      <td>1 Series</td>\n",
       "      <td>2011</td>\n",
       "      <td>premium unleaded (required)</td>\n",
       "      <td>230.0</td>\n",
       "      <td>6.0</td>\n",
       "      <td>MANUAL</td>\n",
       "      <td>rear wheel drive</td>\n",
       "      <td>2.0</td>\n",
       "      <td>Luxury,Performance</td>\n",
       "      <td>Compact</td>\n",
       "      <td>Coupe</td>\n",
       "      <td>28</td>\n",
       "      <td>18</td>\n",
       "      <td>3916</td>\n",
       "      <td>29450</td>\n",
       "    </tr>\n",
       "    <tr>\n",
       "      <th>4</th>\n",
       "      <td>BMW</td>\n",
       "      <td>1 Series</td>\n",
       "      <td>2011</td>\n",
       "      <td>premium unleaded (required)</td>\n",
       "      <td>230.0</td>\n",
       "      <td>6.0</td>\n",
       "      <td>MANUAL</td>\n",
       "      <td>rear wheel drive</td>\n",
       "      <td>2.0</td>\n",
       "      <td>Luxury</td>\n",
       "      <td>Compact</td>\n",
       "      <td>Convertible</td>\n",
       "      <td>28</td>\n",
       "      <td>18</td>\n",
       "      <td>3916</td>\n",
       "      <td>34500</td>\n",
       "    </tr>\n",
       "  </tbody>\n",
       "</table>\n",
       "</div>"
      ],
      "text/plain": [
       "  make       model  year             engine_fuel_type  engine_hp  \\\n",
       "0  BMW  1 Series M  2011  premium unleaded (required)      335.0   \n",
       "1  BMW    1 Series  2011  premium unleaded (required)      300.0   \n",
       "2  BMW    1 Series  2011  premium unleaded (required)      300.0   \n",
       "3  BMW    1 Series  2011  premium unleaded (required)      230.0   \n",
       "4  BMW    1 Series  2011  premium unleaded (required)      230.0   \n",
       "\n",
       "   engine_cylinders transmission_type     driven_wheels  number_of_doors  \\\n",
       "0               6.0            MANUAL  rear wheel drive              2.0   \n",
       "1               6.0            MANUAL  rear wheel drive              2.0   \n",
       "2               6.0            MANUAL  rear wheel drive              2.0   \n",
       "3               6.0            MANUAL  rear wheel drive              2.0   \n",
       "4               6.0            MANUAL  rear wheel drive              2.0   \n",
       "\n",
       "                         market_category vehicle_size vehicle_style  \\\n",
       "0  Factory Tuner,Luxury,High-Performance      Compact         Coupe   \n",
       "1                     Luxury,Performance      Compact   Convertible   \n",
       "2                Luxury,High-Performance      Compact         Coupe   \n",
       "3                     Luxury,Performance      Compact         Coupe   \n",
       "4                                 Luxury      Compact   Convertible   \n",
       "\n",
       "   highway_mpg  city_mpg  popularity   msrp  \n",
       "0           26        19        3916  46135  \n",
       "1           28        19        3916  40650  \n",
       "2           28        20        3916  36350  \n",
       "3           28        18        3916  29450  \n",
       "4           28        18        3916  34500  "
      ]
     },
     "execution_count": 8,
     "metadata": {},
     "output_type": "execute_result"
    }
   ],
   "source": [
    "df.head()"
   ]
  },
  {
   "cell_type": "code",
   "execution_count": 9,
   "id": "7c1cac27-adb2-4120-83fd-08ad7f36f937",
   "metadata": {},
   "outputs": [],
   "source": [
    "strings = list(df.dtypes[df.dtypes == 'object'].index)"
   ]
  },
  {
   "cell_type": "code",
   "execution_count": 10,
   "id": "7592d4e3-b3eb-4a95-9b2f-48d2828f6226",
   "metadata": {},
   "outputs": [],
   "source": [
    "for col in strings:\n",
    "    df[col] = df[col].astype(str).str.lower().str.replace(\" \", \"_\", regex=False)"
   ]
  },
  {
   "cell_type": "markdown",
   "id": "fdcac909-ef88-46c4-853d-90b20f8bfdf8",
   "metadata": {},
   "source": [
    "### Exploratory data analysis"
   ]
  },
  {
   "cell_type": "code",
   "execution_count": 11,
   "id": "96ed7eed-a4b3-4ae8-9db1-9dc1d389017c",
   "metadata": {},
   "outputs": [
    {
     "name": "stdout",
     "output_type": "stream",
     "text": [
      "make\n",
      "['bmw' 'audi' 'fiat' 'mercedes-benz' 'chrysler']\n",
      "48\n",
      "\n",
      "model\n",
      "['1_series_m' '1_series' '100' '124_spider' '190-class']\n",
      "914\n",
      "\n",
      "year\n",
      "[2011 2012 2013 1992 1993]\n",
      "28\n",
      "\n",
      "engine_fuel_type\n",
      "['premium_unleaded_(required)' 'regular_unleaded'\n",
      " 'premium_unleaded_(recommended)' 'flex-fuel_(unleaded/e85)' 'diesel']\n",
      "11\n",
      "\n",
      "engine_hp\n",
      "[335. 300. 230. 320. 172.]\n",
      "356\n",
      "\n",
      "engine_cylinders\n",
      "[ 6.  4.  5.  8. 12.]\n",
      "9\n",
      "\n",
      "transmission_type\n",
      "['manual' 'automatic' 'automated_manual' 'direct_drive' 'unknown']\n",
      "5\n",
      "\n",
      "driven_wheels\n",
      "['rear_wheel_drive' 'front_wheel_drive' 'all_wheel_drive'\n",
      " 'four_wheel_drive']\n",
      "4\n",
      "\n",
      "number_of_doors\n",
      "[ 2.  4.  3. nan]\n",
      "3\n",
      "\n",
      "market_category\n",
      "['factory_tuner,luxury,high-performance' 'luxury,performance'\n",
      " 'luxury,high-performance' 'luxury' 'performance']\n",
      "72\n",
      "\n",
      "vehicle_size\n",
      "['compact' 'midsize' 'large']\n",
      "3\n",
      "\n",
      "vehicle_style\n",
      "['coupe' 'convertible' 'sedan' 'wagon' '4dr_hatchback']\n",
      "16\n",
      "\n",
      "highway_mpg\n",
      "[26 28 27 25 24]\n",
      "59\n",
      "\n",
      "city_mpg\n",
      "[19 20 18 17 16]\n",
      "69\n",
      "\n",
      "popularity\n",
      "[3916 3105  819  617 1013]\n",
      "48\n",
      "\n",
      "msrp\n",
      "[46135 40650 36350 29450 34500]\n",
      "6049\n",
      "\n"
     ]
    }
   ],
   "source": [
    "for col in df.columns:\n",
    "    print(col)\n",
    "    print(df[col].unique()[:5])\n",
    "    print(df[col].nunique())\n",
    "    print()"
   ]
  },
  {
   "cell_type": "code",
   "execution_count": 12,
   "id": "1a97a245-f6c2-4f6c-a481-4f9c94024076",
   "metadata": {},
   "outputs": [],
   "source": [
    "import matplotlib.pyplot as plt\n",
    "import seaborn as sns\n",
    "\n",
    "%matplotlib inline"
   ]
  },
  {
   "cell_type": "code",
   "execution_count": 13,
   "id": "93d37992-3ee7-40c6-92da-910baf67639a",
   "metadata": {},
   "outputs": [
    {
     "data": {
      "text/plain": [
       "<Axes: xlabel='msrp', ylabel='Count'>"
      ]
     },
     "execution_count": 13,
     "metadata": {},
     "output_type": "execute_result"
    },
    {
     "data": {
      "image/png": "[encoded data removed]",
      "text/plain": [
       "<Figure size 640x480 with 1 Axes>"
      ]
     },
     "metadata": {},
     "output_type": "display_data"
    }
   ],
   "source": [
    "sns.histplot(df.msrp, bins=100) #1e6 = 1 million"
   ]
  },
  {
   "cell_type": "code",
   "execution_count": 14,
   "id": "b2ae18bf-25e7-4fd7-93bf-e21820055da6",
   "metadata": {},
   "outputs": [
    {
     "data": {
      "text/plain": [
       "<Axes: xlabel='msrp', ylabel='Count'>"
      ]
     },
     "execution_count": 14,
     "metadata": {},
     "output_type": "execute_result"
    },
    {
     "data": {
      "image/png": "[encoded data removed]",
      "text/plain": [
       "<Figure size 640x480 with 1 Axes>"
      ]
     },
     "metadata": {},
     "output_type": "display_data"
    }
   ],
   "source": [
    "sns.histplot(df.msrp[df.msrp < 100000], bins=100) #1e6 = 1 million"
   ]
  },
  {
   "cell_type": "code",
   "execution_count": 15,
   "id": "45437868-47ed-4b57-9793-82713397aa21",
   "metadata": {},
   "outputs": [
    {
     "data": {
      "text/plain": [
       "array([0.])"
      ]
     },
     "execution_count": 15,
     "metadata": {},
     "output_type": "execute_result"
    }
   ],
   "source": [
    "np.log1p([0])"
   ]
  },
  {
   "cell_type": "code",
   "execution_count": 16,
   "id": "f028f539-1b4f-471e-bf9d-6d0f97791496",
   "metadata": {},
   "outputs": [],
   "source": [
    "price_logs = np.log1p(df.msrp)"
   ]
  },
  {
   "cell_type": "code",
   "execution_count": 17,
   "id": "8f382128-1ccd-4a05-a4e2-76ada51ab682",
   "metadata": {},
   "outputs": [
    {
     "data": {
      "text/plain": [
       "<Axes: xlabel='msrp', ylabel='Count'>"
      ]
     },
     "execution_count": 17,
     "metadata": {},
     "output_type": "execute_result"
    },
    {
     "data": {
      "image/png": "[encoded data removed]",
      "text/plain": [
       "<Figure size 640x480 with 1 Axes>"
      ]
     },
     "metadata": {},
     "output_type": "display_data"
    }
   ],
   "source": [
    "sns.histplot(price_logs, bins=100) #looks approximately like normal distribution"
   ]
  },
  {
   "cell_type": "code",
   "execution_count": 18,
   "id": "09d5fb76-bd01-47f7-97e2-18a651f8a526",
   "metadata": {},
   "outputs": [
    {
     "data": {
      "text/plain": [
       "make                  0\n",
       "model                 0\n",
       "year                  0\n",
       "engine_fuel_type      0\n",
       "engine_hp            69\n",
       "engine_cylinders     30\n",
       "transmission_type     0\n",
       "driven_wheels         0\n",
       "number_of_doors       6\n",
       "market_category       0\n",
       "vehicle_size          0\n",
       "vehicle_style         0\n",
       "highway_mpg           0\n",
       "city_mpg              0\n",
       "popularity            0\n",
       "msrp                  0\n",
       "dtype: int64"
      ]
     },
     "execution_count": 18,
     "metadata": {},
     "output_type": "execute_result"
    }
   ],
   "source": [
    "df.isnull().sum()"
   ]
  },
  {
   "cell_type": "markdown",
   "id": "2b706d36-7489-4ea5-bcb4-c3e0943e7dde",
   "metadata": {},
   "source": [
    "### Setting up the validation framework"
   ]
  },
  {
   "cell_type": "code",
   "execution_count": null,
   "id": "052229fa-ab3c-4520-ad17-40d65f7736c7",
   "metadata": {},
   "outputs": [],
   "source": []
  },
  {
   "cell_type": "code",
   "execution_count": 19,
   "id": "8450244d-239e-44d5-9d14-0acca4cb6e16",
   "metadata": {},
   "outputs": [],
   "source": [
    "n = len(df)\n",
    "n_test = int(n * 0.2)\n",
    "n_val = int(n * 0.2)\n",
    "n_train = n - n_test - n_val"
   ]
  },
  {
   "cell_type": "code",
   "execution_count": 20,
   "id": "19eb507c-8d94-40a8-b35c-608fc51234c6",
   "metadata": {},
   "outputs": [
    {
     "data": {
      "text/plain": [
       "array([    0,     1,     2, ..., 11911, 11912, 11913], shape=(11914,))"
      ]
     },
     "execution_count": 20,
     "metadata": {},
     "output_type": "execute_result"
    }
   ],
   "source": [
    "idx = np.arange(n)\n",
    "idx"
   ]
  },
  {
   "cell_type": "code",
   "execution_count": 21,
   "id": "655d35ae-fda1-42e8-9629-4ae9bc43a7d3",
   "metadata": {},
   "outputs": [
    {
     "data": {
      "text/plain": [
       "array([2735, 6720, 5878, ..., 6637, 2575, 7336], shape=(11914,))"
      ]
     },
     "execution_count": 21,
     "metadata": {},
     "output_type": "execute_result"
    }
   ],
   "source": [
    "np.random.seed(2)\n",
    "np.random.shuffle(idx)\n",
    "idx"
   ]
  },
  {
   "cell_type": "code",
   "execution_count": 22,
   "id": "8b09df67-95bd-4f27-be6e-2312f2ca92ca",
   "metadata": {},
   "outputs": [],
   "source": [
    "df_val = df.iloc[:n_val]\n",
    "df_test = df.iloc[n_val:(n_val+n_test)]\n",
    "df_train = df.iloc[(n_val+n_test) :]"
   ]
  },
  {
   "cell_type": "code",
   "execution_count": 23,
   "id": "ef9d5043-2f22-4d4d-83c5-4396163391e0",
   "metadata": {},
   "outputs": [
    {
     "data": {
      "text/plain": [
       "(2382, 2382, 7150)"
      ]
     },
     "execution_count": 23,
     "metadata": {},
     "output_type": "execute_result"
    }
   ],
   "source": [
    "len(df_val), len(df_test), len(df_train)"
   ]
  },
  {
   "cell_type": "code",
   "execution_count": 24,
   "id": "43c85684-fb68-4db1-95d8-55963603c7e2",
   "metadata": {},
   "outputs": [],
   "source": [
    "df_val = df_val.reset_index(drop=True)\n",
    "df_test = df_test.reset_index(drop=True)\n",
    "df_train = df_train.reset_index(drop=True)"
   ]
  },
  {
   "cell_type": "code",
   "execution_count": 25,
   "id": "537f4ea9-910a-466d-a9b8-f5619f093720",
   "metadata": {},
   "outputs": [
    {
     "data": {
      "text/html": [
       "<div>\n",
       "<style scoped>\n",
       "    .dataframe tbody tr th:only-of-type {\n",
       "        vertical-align: middle;\n",
       "    }\n",
       "\n",
       "    .dataframe tbody tr th {\n",
       "        vertical-align: top;\n",
       "    }\n",
       "\n",
       "    .dataframe thead th {\n",
       "        text-align: right;\n",
       "    }\n",
       "</style>\n",
       "<table border=\"1\" class=\"dataframe\">\n",
       "  <thead>\n",
       "    <tr style=\"text-align: right;\">\n",
       "      <th></th>\n",
       "      <th>make</th>\n",
       "      <th>model</th>\n",
       "      <th>year</th>\n",
       "      <th>engine_fuel_type</th>\n",
       "      <th>engine_hp</th>\n",
       "      <th>engine_cylinders</th>\n",
       "      <th>transmission_type</th>\n",
       "      <th>driven_wheels</th>\n",
       "      <th>number_of_doors</th>\n",
       "      <th>market_category</th>\n",
       "      <th>vehicle_size</th>\n",
       "      <th>vehicle_style</th>\n",
       "      <th>highway_mpg</th>\n",
       "      <th>city_mpg</th>\n",
       "      <th>popularity</th>\n",
       "      <th>msrp</th>\n",
       "    </tr>\n",
       "  </thead>\n",
       "  <tbody>\n",
       "    <tr>\n",
       "      <th>0</th>\n",
       "      <td>ford</td>\n",
       "      <td>flex</td>\n",
       "      <td>2016</td>\n",
       "      <td>regular_unleaded</td>\n",
       "      <td>287.0</td>\n",
       "      <td>6.0</td>\n",
       "      <td>automatic</td>\n",
       "      <td>front_wheel_drive</td>\n",
       "      <td>4.0</td>\n",
       "      <td>crossover,performance</td>\n",
       "      <td>large</td>\n",
       "      <td>wagon</td>\n",
       "      <td>23</td>\n",
       "      <td>16</td>\n",
       "      <td>5657</td>\n",
       "      <td>37800</td>\n",
       "    </tr>\n",
       "    <tr>\n",
       "      <th>1</th>\n",
       "      <td>ford</td>\n",
       "      <td>flex</td>\n",
       "      <td>2017</td>\n",
       "      <td>premium_unleaded_(recommended)</td>\n",
       "      <td>365.0</td>\n",
       "      <td>6.0</td>\n",
       "      <td>automatic</td>\n",
       "      <td>all_wheel_drive</td>\n",
       "      <td>4.0</td>\n",
       "      <td>crossover</td>\n",
       "      <td>large</td>\n",
       "      <td>wagon</td>\n",
       "      <td>21</td>\n",
       "      <td>15</td>\n",
       "      <td>5657</td>\n",
       "      <td>43030</td>\n",
       "    </tr>\n",
       "    <tr>\n",
       "      <th>2</th>\n",
       "      <td>ford</td>\n",
       "      <td>flex</td>\n",
       "      <td>2017</td>\n",
       "      <td>regular_unleaded</td>\n",
       "      <td>287.0</td>\n",
       "      <td>6.0</td>\n",
       "      <td>automatic</td>\n",
       "      <td>all_wheel_drive</td>\n",
       "      <td>4.0</td>\n",
       "      <td>crossover,performance</td>\n",
       "      <td>large</td>\n",
       "      <td>wagon</td>\n",
       "      <td>22</td>\n",
       "      <td>16</td>\n",
       "      <td>5657</td>\n",
       "      <td>40180</td>\n",
       "    </tr>\n",
       "    <tr>\n",
       "      <th>3</th>\n",
       "      <td>ford</td>\n",
       "      <td>flex</td>\n",
       "      <td>2017</td>\n",
       "      <td>regular_unleaded</td>\n",
       "      <td>287.0</td>\n",
       "      <td>6.0</td>\n",
       "      <td>automatic</td>\n",
       "      <td>front_wheel_drive</td>\n",
       "      <td>4.0</td>\n",
       "      <td>crossover,performance</td>\n",
       "      <td>large</td>\n",
       "      <td>wagon</td>\n",
       "      <td>23</td>\n",
       "      <td>16</td>\n",
       "      <td>5657</td>\n",
       "      <td>32730</td>\n",
       "    </tr>\n",
       "    <tr>\n",
       "      <th>4</th>\n",
       "      <td>ford</td>\n",
       "      <td>flex</td>\n",
       "      <td>2017</td>\n",
       "      <td>regular_unleaded</td>\n",
       "      <td>287.0</td>\n",
       "      <td>6.0</td>\n",
       "      <td>automatic</td>\n",
       "      <td>front_wheel_drive</td>\n",
       "      <td>4.0</td>\n",
       "      <td>crossover,performance</td>\n",
       "      <td>large</td>\n",
       "      <td>wagon</td>\n",
       "      <td>23</td>\n",
       "      <td>16</td>\n",
       "      <td>5657</td>\n",
       "      <td>38230</td>\n",
       "    </tr>\n",
       "  </tbody>\n",
       "</table>\n",
       "</div>"
      ],
      "text/plain": [
       "   make model  year                engine_fuel_type  engine_hp  \\\n",
       "0  ford  flex  2016                regular_unleaded      287.0   \n",
       "1  ford  flex  2017  premium_unleaded_(recommended)      365.0   \n",
       "2  ford  flex  2017                regular_unleaded      287.0   \n",
       "3  ford  flex  2017                regular_unleaded      287.0   \n",
       "4  ford  flex  2017                regular_unleaded      287.0   \n",
       "\n",
       "   engine_cylinders transmission_type      driven_wheels  number_of_doors  \\\n",
       "0               6.0         automatic  front_wheel_drive              4.0   \n",
       "1               6.0         automatic    all_wheel_drive              4.0   \n",
       "2               6.0         automatic    all_wheel_drive              4.0   \n",
       "3               6.0         automatic  front_wheel_drive              4.0   \n",
       "4               6.0         automatic  front_wheel_drive              4.0   \n",
       "\n",
       "         market_category vehicle_size vehicle_style  highway_mpg  city_mpg  \\\n",
       "0  crossover,performance        large         wagon           23        16   \n",
       "1              crossover        large         wagon           21        15   \n",
       "2  crossover,performance        large         wagon           22        16   \n",
       "3  crossover,performance        large         wagon           23        16   \n",
       "4  crossover,performance        large         wagon           23        16   \n",
       "\n",
       "   popularity   msrp  \n",
       "0        5657  37800  \n",
       "1        5657  43030  \n",
       "2        5657  40180  \n",
       "3        5657  32730  \n",
       "4        5657  38230  "
      ]
     },
     "execution_count": 25,
     "metadata": {},
     "output_type": "execute_result"
    }
   ],
   "source": [
    "df_train.head()"
   ]
  },
  {
   "cell_type": "code",
   "execution_count": 26,
   "id": "719d519c-9bbb-47ea-ac62-16df3effcfd6",
   "metadata": {},
   "outputs": [],
   "source": [
    "y_train = np.log1p(df_train.msrp.values)\n",
    "y_val = np.log1p(df_val.msrp.values)\n",
    "y_test = np.log1p(df_test.msrp.values)\n",
    "\n",
    "#np.expm1 \n",
    "\n",
    "del df_train['msrp']\n",
    "del df_test['msrp']\n",
    "del df_val['msrp']"
   ]
  },
  {
   "cell_type": "markdown",
   "id": "a8b981b5-2637-42a5-aaf7-72d84b5ec566",
   "metadata": {},
   "source": [
    "### Training a lr model"
   ]
  },
  {
   "cell_type": "code",
   "execution_count": 58,
   "id": "dd900781-d40e-47d8-8574-de655dca5fb0",
   "metadata": {},
   "outputs": [],
   "source": [
    "#alpha is also called the bias term\n",
    "def train_linear_regression(X,y):\n",
    "    ones = np.ones(X.shape[0])\n",
    "    X = np.column_stack([ones, X])\n",
    "    XTX = X.T.dot(X)\n",
    "    XTX_inv = np.linalg.inv(XTX)\n",
    "    w_sol = XTX_inv.dot(X.T).dot(y)\n",
    "    return w_sol[0], w_sol[1:]"
   ]
  },
  {
   "cell_type": "code",
   "execution_count": 59,
   "id": "02dfe2fc-94c4-416d-bca8-3e266eca560b",
   "metadata": {},
   "outputs": [
    {
     "data": {
      "text/plain": [
       "make                  object\n",
       "model                 object\n",
       "year                   int64\n",
       "engine_fuel_type      object\n",
       "engine_hp            float64\n",
       "engine_cylinders     float64\n",
       "transmission_type     object\n",
       "driven_wheels         object\n",
       "number_of_doors      float64\n",
       "market_category       object\n",
       "vehicle_size          object\n",
       "vehicle_style         object\n",
       "highway_mpg            int64\n",
       "city_mpg               int64\n",
       "popularity             int64\n",
       "msrp                   int64\n",
       "dtype: object"
      ]
     },
     "execution_count": 59,
     "metadata": {},
     "output_type": "execute_result"
    }
   ],
   "source": [
    "df.dtypes"
   ]
  },
  {
   "cell_type": "code",
   "execution_count": 60,
   "id": "34aae784-a6a7-4bae-8e51-83fe04e336c1",
   "metadata": {},
   "outputs": [],
   "source": [
    "base = ['engine_hp', 'engine_cylinders', 'highway_mpg', 'city_mpg', 'popularity']"
   ]
  },
  {
   "cell_type": "code",
   "execution_count": 61,
   "id": "b26d9828-cd43-4541-8ef0-e20c2328c809",
   "metadata": {},
   "outputs": [
    {
     "data": {
      "text/plain": [
       "(np.float64(nan), array([nan, nan, nan, nan, nan]))"
      ]
     },
     "execution_count": 61,
     "metadata": {},
     "output_type": "execute_result"
    }
   ],
   "source": [
    "X_train = df_train[base].values\n",
    "train_linear_regression(X_train, y_train)"
   ]
  },
  {
   "cell_type": "code",
   "execution_count": 62,
   "id": "0d4bb3d4-701e-4f51-a9e5-88ca5c535e05",
   "metadata": {},
   "outputs": [
    {
     "data": {
      "text/plain": [
       "engine_hp           56\n",
       "engine_cylinders    24\n",
       "highway_mpg          0\n",
       "city_mpg             0\n",
       "popularity           0\n",
       "dtype: int64"
      ]
     },
     "execution_count": 62,
     "metadata": {},
     "output_type": "execute_result"
    }
   ],
   "source": [
    "df_train[base].isnull().sum()"
   ]
  },
  {
   "cell_type": "code",
   "execution_count": 63,
   "id": "3dd8f0f3-1b6b-4a43-8637-6412c0d296c1",
   "metadata": {},
   "outputs": [],
   "source": [
    "X_train = df_train[base].fillna(0).values\n",
    "w0, w = train_linear_regression(X_train, y_train)"
   ]
  },
  {
   "cell_type": "code",
   "execution_count": 64,
   "id": "d1e7c5f0-53f6-44c3-bc56-0d77a1ee187d",
   "metadata": {},
   "outputs": [],
   "source": [
    "y_pred = X_train.dot(w) + w0"
   ]
  },
  {
   "cell_type": "code",
   "execution_count": 65,
   "id": "5c3ddccb-200d-4f04-84a4-b3f7404766ed",
   "metadata": {},
   "outputs": [
    {
     "data": {
      "text/plain": [
       "<Axes: ylabel='Count'>"
      ]
     },
     "execution_count": 65,
     "metadata": {},
     "output_type": "execute_result"
    },
    {
     "data": {
      "image/png": "[encoded data removed]",
      "text/plain": [
       "<Figure size 640x480 with 1 Axes>"
      ]
     },
     "metadata": {},
     "output_type": "display_data"
    }
   ],
   "source": [
    "sns.histplot(y_pred, alpha = 0.5, color = 'red') #alpha is transparency \n",
    "sns.histplot(y_train, color = 'blue')"
   ]
  },
  {
   "cell_type": "markdown",
   "id": "209afc69-d078-410b-8023-a9abbbc0e6f6",
   "metadata": {},
   "source": [
    " ### RMSE root mean square error"
   ]
  },
  {
   "cell_type": "code",
   "execution_count": 66,
   "id": "36f28e27-61b2-492f-b11e-37a5480a9946",
   "metadata": {},
   "outputs": [],
   "source": [
    "def rmse(y, y_pred):\n",
    "    error = y - y_pred\n",
    "    se = error ** 2\n",
    "    mse = se.mean()\n",
    "    return np.sqrt(mse)"
   ]
  },
  {
   "cell_type": "code",
   "execution_count": 67,
   "id": "959d5d5c-b581-47a7-b992-f0918ccec9a9",
   "metadata": {},
   "outputs": [
    {
     "data": {
      "text/plain": [
       "np.float64(0.7063387650493995)"
      ]
     },
     "execution_count": 67,
     "metadata": {},
     "output_type": "execute_result"
    }
   ],
   "source": [
    "rmse(y_train, y_pred)"
   ]
  },
  {
   "cell_type": "markdown",
   "id": "eebad315-b1ab-4610-8473-89ba03bba54f",
   "metadata": {},
   "source": [
    "### Validation the model"
   ]
  },
  {
   "cell_type": "code",
   "execution_count": 69,
   "id": "60c82bff-6718-46be-9300-e4126292f78f",
   "metadata": {},
   "outputs": [
    {
     "data": {
      "text/plain": [
       "np.float64(0.8602674179621871)"
      ]
     },
     "execution_count": 69,
     "metadata": {},
     "output_type": "execute_result"
    }
   ],
   "source": [
    "X_val = df_val[base].fillna(0).values\n",
    "y_val_pred = X_val.dot(w) + w0\n",
    "rmse(y_val_pred, y_val)"
   ]
  },
  {
   "cell_type": "code",
   "execution_count": 70,
   "id": "3408d35d-079f-4d06-aca4-eadcedd45887",
   "metadata": {},
   "outputs": [
    {
     "data": {
      "text/plain": [
       "['engine_hp', 'engine_cylinders', 'highway_mpg', 'city_mpg', 'popularity']"
      ]
     },
     "execution_count": 70,
     "metadata": {},
     "output_type": "execute_result"
    }
   ],
   "source": [
    "base"
   ]
  },
  {
   "cell_type": "markdown",
   "id": "9e7fe520-42ba-4f7f-8733-da8dff5cd183",
   "metadata": {},
   "source": [
    "### Simple feature engineering"
   ]
  },
  {
   "cell_type": "code",
   "execution_count": 71,
   "id": "f38374f3-4f44-4779-8105-ff1f992907fe",
   "metadata": {},
   "outputs": [],
   "source": [
    "def prepare(df_):\n",
    "    df = df_.copy()\n",
    "    df['age'] = 2017 - df.year\n",
    "    features = base + ['age']\n",
    "    \n",
    "    df_num = df[features]\n",
    "    df_num = df_num.fillna(0)\n",
    "    return df_num.values"
   ]
  },
  {
   "cell_type": "code",
   "execution_count": 72,
   "id": "9ad5a669-403c-49e0-aeb1-7eee513bb174",
   "metadata": {},
   "outputs": [
    {
     "data": {
      "text/plain": [
       "np.float64(0.5464063451776495)"
      ]
     },
     "execution_count": 72,
     "metadata": {},
     "output_type": "execute_result"
    }
   ],
   "source": [
    "X_train = prepare(df_train)\n",
    "w0, w = train_linear_regression(X_train, y_train)\n",
    "\n",
    "X_val = prepare(df_val)\n",
    "y_val_pred = X_val.dot(w) + w0\n",
    "\n",
    "rmse(y_val, y_val_pred)"
   ]
  },
  {
   "cell_type": "markdown",
   "id": "7a8f732b-8a21-49af-9399-f85baf95768f",
   "metadata": {},
   "source": [
    "### Categorical variables"
   ]
  },
  {
   "cell_type": "code",
   "execution_count": 127,
   "id": "9d85c7c0-963b-45b8-bf63-fb93ec123034",
   "metadata": {},
   "outputs": [],
   "source": [
    "def prepare(df_):\n",
    "    df = df_.copy()\n",
    "    df['age'] = 2017 - df.year\n",
    "    features = base + ['age']\n",
    "    for v in [2, 3, 4]:\n",
    "        col_name = 'num_doors_%s' % v\n",
    "        df[col_name] = (df.number_of_doors == v).astype(int)\n",
    "        features.append(col_name)\n",
    "    \n",
    "    categories = ['make', 'engine_fuel_type', 'transmission_type', 'driven_wheels',\n",
    "                 'market_category', 'vehicle_size', 'vehicle_style']\n",
    "  \n",
    "    categories_dict = {}\n",
    "    \n",
    "    for i in categories:\n",
    "        categories_dict[i] = list(df_train[i].value_counts().head().index)\n",
    "    for k, values in categories_dict.items():\n",
    "        for v in values:\n",
    "            col_name = '%s_%s' % (k, v)\n",
    "            df[col_name] = (df[k] == v).astype(int)\n",
    "            features.append(col_name)        \n",
    "            \n",
    "    df_num = df[features]\n",
    "    df_num = df_num.fillna(0)\n",
    "    return df_num.values"
   ]
  },
  {
   "cell_type": "code",
   "execution_count": 108,
   "id": "bca9d4ff-5a8f-4e91-b123-63fefd3c37c9",
   "metadata": {},
   "outputs": [
    {
     "data": {
      "text/plain": [
       "array([[287.,   6.,  23., ...,   0.,   0.,   0.],\n",
       "       [365.,   6.,  21., ...,   0.,   0.,   0.],\n",
       "       [287.,   6.,  22., ...,   0.,   0.,   0.],\n",
       "       ...,\n",
       "       [300.,   6.,  23., ...,   0.,   1.,   0.],\n",
       "       [300.,   6.,  23., ...,   0.,   1.,   0.],\n",
       "       [221.,   6.,  26., ...,   0.,   0.,   0.]], shape=(7150, 41))"
      ]
     },
     "execution_count": 108,
     "metadata": {},
     "output_type": "execute_result"
    }
   ],
   "source": [
    "prepare(df_train)"
   ]
  },
  {
   "cell_type": "code",
   "execution_count": 109,
   "id": "27e9390c-199f-4104-90b6-82592fe24037",
   "metadata": {},
   "outputs": [
    {
     "data": {
      "text/plain": [
       "np.float64(5.894595805019989)"
      ]
     },
     "execution_count": 109,
     "metadata": {},
     "output_type": "execute_result"
    }
   ],
   "source": [
    "X_train = prepare(df_train)\n",
    "w0, w = train_linear_regression(X_train, y_train)\n",
    "\n",
    "X_val = prepare(df_val)\n",
    "y_val_pred = X_val.dot(w) + w0\n",
    "\n",
    "rmse(y_val, y_val_pred)"
   ]
  },
  {
   "cell_type": "code",
   "execution_count": 114,
   "id": "dfd415fe-2fae-4d08-a52e-8c9dd92b5d87",
   "metadata": {},
   "outputs": [
    {
     "data": {
      "text/plain": [
       "np.float64(556569116069814.94)"
      ]
     },
     "execution_count": 114,
     "metadata": {},
     "output_type": "execute_result"
    }
   ],
   "source": [
    "#regularisation problem\n",
    "w0"
   ]
  },
  {
   "cell_type": "code",
   "execution_count": 113,
   "id": "0cf98d39-eff0-4e02-8e9e-f70c740039a3",
   "metadata": {},
   "outputs": [],
   "source": [
    "#alpha is also called the bias term\n",
    "def train_linear_regression_reg(X,y, reg_num=0.001):\n",
    "    ones = np.ones(X.shape[0])\n",
    "    X = np.column_stack([ones, X])\n",
    "    XTX = X.T.dot(X)\n",
    "    XTX = XTX + np.eye(XTX.shape[0])*reg_num\n",
    "    XTX_inv = np.linalg.inv(XTX)\n",
    "    w_sol = XTX_inv.dot(X.T).dot(y)\n",
    "    return w_sol[0], w_sol[1:]"
   ]
  },
  {
   "cell_type": "code",
   "execution_count": 117,
   "id": "bc045b94-d836-4070-bb1a-8560c4ca94a3",
   "metadata": {},
   "outputs": [
    {
     "data": {
      "text/plain": [
       "np.float64(0.5646515754067534)"
      ]
     },
     "execution_count": 117,
     "metadata": {},
     "output_type": "execute_result"
    }
   ],
   "source": [
    "X_train = prepare(df_train)\n",
    "w0, w = train_linear_regression_reg(X_train, y_train, reg_num=0.01)\n",
    "\n",
    "X_val = prepare(df_val)\n",
    "y_val_pred = X_val.dot(w) + w0\n",
    "\n",
    "rmse(y_val, y_val_pred)"
   ]
  },
  {
   "cell_type": "markdown",
   "id": "8ee37035-20f4-4081-b0fa-3b07187d282b",
   "metadata": {},
   "source": [
    "### Tuning the model"
   ]
  },
  {
   "cell_type": "code",
   "execution_count": 130,
   "id": "60e6b697-feb2-4153-a9ee-012f306f7b9f",
   "metadata": {},
   "outputs": [
    {
     "name": "stdout",
     "output_type": "stream",
     "text": [
      "0.0 556569116069814.94 5.725685053406059\n",
      "0.0001 6.727568679575698 0.5484634615805986\n",
      "0.001 6.739213585229518 0.5484407824786297\n",
      "0.01 6.725475497737362 0.5482158139779444\n",
      "0.1 6.5985243156351086 0.546130976510912\n",
      "1 5.842868452010707 0.534178234783991\n",
      "10 4.2137422801551985 0.5453837643423883\n"
     ]
    }
   ],
   "source": [
    "for r in [0.0, 0.0001, 0.001, 0.01, 0.1, 1, 10]:\n",
    "\n",
    "    X_train = prepare(df_train)\n",
    "    w0, w = train_linear_regression_reg(X_train, y_train, reg_num=r)\n",
    "    \n",
    "    X_val = prepare(df_val)\n",
    "    y_val_pred = X_val.dot(w) + w0\n",
    "    \n",
    "    print(r, w0, rmse(y_val, y_val_pred))"
   ]
  },
  {
   "cell_type": "code",
   "execution_count": 131,
   "id": "b2cd97ad-0a5d-4f42-be77-7cb7841a64cc",
   "metadata": {},
   "outputs": [
    {
     "name": "stdout",
     "output_type": "stream",
     "text": [
      "1 5.842868452010707 0.534178234783991\n"
     ]
    }
   ],
   "source": [
    "r =1 \n",
    "X_train = prepare(df_train)\n",
    "w0, w = train_linear_regression_reg(X_train, y_train, reg_num=r)\n",
    "\n",
    "X_val = prepare(df_val)\n",
    "y_val_pred = X_val.dot(w) + w0\n",
    "\n",
    "print(r, w0, rmse(y_val, y_val_pred))"
   ]
  },
  {
   "cell_type": "markdown",
   "id": "eda16fc2-9199-4fbd-9be3-f16a04a473e8",
   "metadata": {},
   "source": [
    "### Using the model"
   ]
  },
  {
   "cell_type": "code",
   "execution_count": 132,
   "id": "631cdebf-cb45-47b1-9b10-778e36a825e3",
   "metadata": {},
   "outputs": [],
   "source": [
    "df_full_train = pd.concat([df_train, df_val])\n",
    "df_full_train.reset_index(drop = True, inplace = True)"
   ]
  },
  {
   "cell_type": "code",
   "execution_count": 133,
   "id": "d8f47970-6863-48ac-9cb2-de4e88966aab",
   "metadata": {},
   "outputs": [],
   "source": [
    "y_full_train = np.concat([y_train, y_val])"
   ]
  },
  {
   "cell_type": "code",
   "execution_count": 134,
   "id": "1558b00e-6a38-4b15-ba9a-a71ca033c776",
   "metadata": {},
   "outputs": [
    {
     "name": "stdout",
     "output_type": "stream",
     "text": [
      "1 5.686252727472526 0.48369156282898745\n"
     ]
    }
   ],
   "source": [
    "r =1 \n",
    "X_full_train = prepare(df_full_train)\n",
    "w0, w = train_linear_regression_reg(X_full_train, y_full_train, reg_num=r)\n",
    "\n",
    "X_test = prepare(df_test)\n",
    "y_test_pred = X_test.dot(w) + w0\n",
    "\n",
    "print(r, w0, rmse(y_test, y_test_pred))"
   ]
  },
  {
   "cell_type": "code",
   "execution_count": 135,
   "id": "77837fb8-0aa9-4faf-b6f1-f10814370edf",
   "metadata": {},
   "outputs": [
    {
     "data": {
      "text/plain": [
       "{'make': 'volkswagen',\n",
       " 'model': 'cc',\n",
       " 'year': 2015,\n",
       " 'engine_fuel_type': 'premium_unleaded_(recommended)',\n",
       " 'engine_hp': 200.0,\n",
       " 'engine_cylinders': 4.0,\n",
       " 'transmission_type': 'automated_manual',\n",
       " 'driven_wheels': 'front_wheel_drive',\n",
       " 'number_of_doors': 4.0,\n",
       " 'market_category': 'performance',\n",
       " 'vehicle_size': 'midsize',\n",
       " 'vehicle_style': 'sedan',\n",
       " 'highway_mpg': 31,\n",
       " 'city_mpg': 22,\n",
       " 'popularity': 873}"
      ]
     },
     "execution_count": 135,
     "metadata": {},
     "output_type": "execute_result"
    }
   ],
   "source": [
    "car = df_test.iloc[20].to_dict()\n",
    "car"
   ]
  },
  {
   "cell_type": "code",
   "execution_count": 136,
   "id": "9755c888-aaf5-4e34-939f-a24a7d8dff11",
   "metadata": {},
   "outputs": [
    {
     "data": {
      "text/html": [
       "<div>\n",
       "<style scoped>\n",
       "    .dataframe tbody tr th:only-of-type {\n",
       "        vertical-align: middle;\n",
       "    }\n",
       "\n",
       "    .dataframe tbody tr th {\n",
       "        vertical-align: top;\n",
       "    }\n",
       "\n",
       "    .dataframe thead th {\n",
       "        text-align: right;\n",
       "    }\n",
       "</style>\n",
       "<table border=\"1\" class=\"dataframe\">\n",
       "  <thead>\n",
       "    <tr style=\"text-align: right;\">\n",
       "      <th></th>\n",
       "      <th>make</th>\n",
       "      <th>model</th>\n",
       "      <th>year</th>\n",
       "      <th>engine_fuel_type</th>\n",
       "      <th>engine_hp</th>\n",
       "      <th>engine_cylinders</th>\n",
       "      <th>transmission_type</th>\n",
       "      <th>driven_wheels</th>\n",
       "      <th>number_of_doors</th>\n",
       "      <th>market_category</th>\n",
       "      <th>vehicle_size</th>\n",
       "      <th>vehicle_style</th>\n",
       "      <th>highway_mpg</th>\n",
       "      <th>city_mpg</th>\n",
       "      <th>popularity</th>\n",
       "    </tr>\n",
       "  </thead>\n",
       "  <tbody>\n",
       "    <tr>\n",
       "      <th>0</th>\n",
       "      <td>volkswagen</td>\n",
       "      <td>cc</td>\n",
       "      <td>2015</td>\n",
       "      <td>premium_unleaded_(recommended)</td>\n",
       "      <td>200.0</td>\n",
       "      <td>4.0</td>\n",
       "      <td>automated_manual</td>\n",
       "      <td>front_wheel_drive</td>\n",
       "      <td>4.0</td>\n",
       "      <td>performance</td>\n",
       "      <td>midsize</td>\n",
       "      <td>sedan</td>\n",
       "      <td>31</td>\n",
       "      <td>22</td>\n",
       "      <td>873</td>\n",
       "    </tr>\n",
       "  </tbody>\n",
       "</table>\n",
       "</div>"
      ],
      "text/plain": [
       "         make model  year                engine_fuel_type  engine_hp  \\\n",
       "0  volkswagen    cc  2015  premium_unleaded_(recommended)      200.0   \n",
       "\n",
       "   engine_cylinders transmission_type      driven_wheels  number_of_doors  \\\n",
       "0               4.0  automated_manual  front_wheel_drive              4.0   \n",
       "\n",
       "  market_category vehicle_size vehicle_style  highway_mpg  city_mpg  \\\n",
       "0     performance      midsize         sedan           31        22   \n",
       "\n",
       "   popularity  \n",
       "0         873  "
      ]
     },
     "execution_count": 136,
     "metadata": {},
     "output_type": "execute_result"
    }
   ],
   "source": [
    "df_small = pd.DataFrame([car])\n",
    "df_small"
   ]
  },
  {
   "cell_type": "code",
   "execution_count": 137,
   "id": "267a67dc-b104-49ac-9e7d-9b3ba9616ae0",
   "metadata": {},
   "outputs": [
    {
     "data": {
      "text/plain": [
       "np.float64(33073.42924777992)"
      ]
     },
     "execution_count": 137,
     "metadata": {},
     "output_type": "execute_result"
    }
   ],
   "source": [
    "X_small = prepare(df_small)\n",
    "y_pred = w0 + X_small.dot(w)\n",
    "np.expm1(y_pred[0])"
   ]
  },
  {
   "cell_type": "code",
   "execution_count": 138,
   "id": "5cf5c554-b639-4a60-ab63-99014dec7d42",
   "metadata": {},
   "outputs": [
    {
     "data": {
      "text/plain": [
       "np.float64(34095.00000000001)"
      ]
     },
     "execution_count": 138,
     "metadata": {},
     "output_type": "execute_result"
    }
   ],
   "source": [
    "np.expm1(y_test[20])"
   ]
  },
  {
   "cell_type": "code",
   "execution_count": null,
   "id": "26f69933-26fe-4159-973c-cd4debaead36",
   "metadata": {},
   "outputs": [],
   "source": []
  }
 ],
 "metadata": {
  "kernelspec": {
   "display_name": "Python 3 (ipykernel)",
   "language": "python",
   "name": "python3"
  },
  "language_info": {
   "codemirror_mode": {
    "name": "ipython",
    "version": 3
   },
   "file_extension": ".py",
   "mimetype": "text/x-python",
   "name": "python",
   "nbconvert_exporter": "python",
   "pygments_lexer": "ipython3",
   "version": "3.12.1"
  }
 },
 "nbformat": 4,
 "nbformat_minor": 5
}
